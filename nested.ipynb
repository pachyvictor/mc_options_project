{
 "cells": [
  {
   "cell_type": "code",
   "execution_count": 28,
   "metadata": {},
   "outputs": [],
   "source": [
    "import numpy as np\n",
    "import matplotlib.pyplot as plt\n",
    "from tqdm.auto import tqdm"
   ]
  },
  {
   "cell_type": "code",
   "execution_count": 37,
   "metadata": {},
   "outputs": [],
   "source": [
    "def successor(X, s, r, delta, m, T):\n",
    "    h = T/m\n",
    "    z = np.random.normal()\n",
    "    return X * np.exp((r - delta - (0.5 * s**2)) * h + s * np.sqrt(h) * z)\n",
    "\n",
    "def black_scholes(X0, s, r, delta, m, T):\n",
    "    X = [X0]\n",
    "    for i in range(m):\n",
    "        X.append(successor(X[-1], s, r, delta, m, T))\n",
    "    return X\n",
    "\n",
    "def put_func(a, K, r, t):\n",
    "    \"\"\"\n",
    "    Payoff function for a Bermudan put option\n",
    "    \"\"\"\n",
    "    return np.exp(-r*t) * np.maximum(K - a, 0)\n",
    "\n",
    "def call_func(a, K, r, t):\n",
    "    \"\"\"\n",
    "    Payoff function for a Bermudan call option\n",
    "    \"\"\"\n",
    "    return np.exp(-r*t) * np.maximum(a - K, 0)\n",
    "\n",
    "def high_estimator(payoff_func, current, nextt, K, r, t):\n",
    "    return max(payoff_func(current, K, r, t), np.mean(nextt))\n",
    "\n",
    "def low_estimator(payoff_func, current, nextt, K, r, t):\n",
    "    b = len(nextt)\n",
    "    v_ = np.zeros(b)\n",
    "    for k in range(b):\n",
    "        new = np.concatenate([nextt[:k], nextt[k+1:]]) # remove the k-th element\n",
    "        if np.mean(new) <= payoff_func(current, K, r, t):\n",
    "            v_[k] = payoff_func(current, K, r, t)\n",
    "        else:\n",
    "            v_[k] = nextt[k]\n",
    "    return np.mean(v_)\n"
   ]
  },
  {
   "cell_type": "code",
   "execution_count": 38,
   "metadata": {},
   "outputs": [],
   "source": [
    "def rtree(X0, m, b, s, r, delta, K, T, payoff_func):\n",
    "    h = T/m\n",
    "\n",
    "    w = np.zeros(m+1).astype(int)     # to know at which branch we are\n",
    "    # Values of the estimators\n",
    "    v = np.zeros((b, m+1))   \n",
    "    V = np.zeros((b, m+1))   \n",
    "\n",
    "    # Root nodes\n",
    "    v[0, 0] = X0    \n",
    "    V[0, 0] = X0\n",
    "\n",
    "    # Initialize the first branches\n",
    "    for j in range(1, m+1):\n",
    "        v[0, j] = successor(v[0, j-1], s, r, delta, m, T)\n",
    "        V[0, j] = successor(V[0, j-1], s, r, delta, m, T)\n",
    "    \n",
    "    j = m\n",
    "    while j >= 1:\n",
    "        if j == m and w[j] < b-1:\n",
    "            v[w[j], j] = payoff_func(v[w[j], j], K, r, j*h)\n",
    "            V[w[j], j] = payoff_func(V[w[j], j], K, r, j*h)\n",
    "            v[w[j]+1, j] = successor(v[w[j-1], j-1], s, r, delta, m, T)\n",
    "            V[w[j]+1, j] = successor(V[w[j-1], j-1], s, r, delta, m, T)\n",
    "            w[j] += 1\n",
    "        elif j == m and w[j] == b-1:\n",
    "            v[w[j], j] = payoff_func(v[w[j], j], K, r, j*h)\n",
    "            V[w[j], j] = payoff_func(V[w[j], j], K, r, j*h)\n",
    "            w[j] = 0\n",
    "            j -= 1\n",
    "        elif j < m and w[j] < b-1:\n",
    "            V[w[j], j] = high_estimator(payoff_func, V[w[j], j], V[:, j+1], K, r, j*h)\n",
    "            v[w[j], j] = low_estimator(payoff_func, v[w[j], j], v[:, j+1], K, r, j*h)\n",
    "            if j > 0:\n",
    "                w[j] += 1\n",
    "                v[w[j], j] = successor(v[w[j-1], j-1], s, r, delta, m, T)\n",
    "                V[w[j], j] = successor(V[w[j-1], j-1], s, r, delta, m, T)\n",
    "                for i in range(j+1, m+1):\n",
    "                    v[0, i] = successor(v[w[j], i-1], s, r, delta, m, T)\n",
    "                    V[0, i] = successor(V[w[j], i-1], s, r, delta, m, T)\n",
    "                j = m\n",
    "            else:\n",
    "                break\n",
    "        elif j < m and w[j] == b-1:\n",
    "            v[w[j], j] = low_estimator(payoff_func, v[w[j], j], v[:, j+1], K, r, j*h)\n",
    "            V[w[j], j] = high_estimator(payoff_func, V[w[j], j], V[:, j+1], K, r, j*h)\n",
    "            w[j] = 0\n",
    "            j -= 1\n",
    "    return low_estimator(payoff_func, v[0, 0], v[:, 1], K, r, 0), high_estimator(payoff_func, V[0, 0], V[:, 1], K, r, 0)"
   ]
  },
  {
   "cell_type": "code",
   "execution_count": 39,
   "metadata": {},
   "outputs": [],
   "source": [
    "def monte_carlo(n, X0, m, b, s, r, delta, K, T, payoff_func):\n",
    "    eff_low = []\n",
    "    eff_high = []\n",
    "    for _ in tqdm(range(n)):\n",
    "        eff_low.append(rtree(X0, m, b, s, r, delta, K, T, payoff_func)[0])\n",
    "        eff_high.append(rtree(X0, m, b, s, r, delta, K, T, payoff_func)[1])\n",
    "    return eff_low, eff_high"
   ]
  },
  {
   "cell_type": "code",
   "execution_count": 42,
   "metadata": {},
   "outputs": [
    {
     "name": "stderr",
     "output_type": "stream",
     "text": [
      "100%|██████████| 100/100 [35:12<00:00, 21.12s/it]\n"
     ]
    }
   ],
   "source": [
    "n = 100\n",
    "X0 = 100\n",
    "m = 3\n",
    "b = 50\n",
    "s = 0.2\n",
    "r = 0.1\n",
    "delta = 0.05\n",
    "K = 100\n",
    "T = 1\n",
    "eff_low, eff_high = monte_carlo(n, X0, m, b, s, r, delta, K, T, put_func)"
   ]
  },
  {
   "cell_type": "code",
   "execution_count": 43,
   "metadata": {},
   "outputs": [],
   "source": [
    "parameters = [n, X0, m, b, s, r, delta, K, T]\n",
    "np.save('parametersb50.npy', parameters)\n",
    "np.save('runb50.npy', [eff_low, eff_high])"
   ]
  },
  {
   "cell_type": "code",
   "execution_count": 58,
   "metadata": {},
   "outputs": [
    {
     "name": "stdout",
     "output_type": "stream",
     "text": [
      "90% confidence interval: [ 5.62260720089785 5.962591632886328 ]\n",
      "Low estimator: 5.731102600680967\n",
      "High estimator: 5.862991122675001\n",
      "Std error for the low estimator: 0.10849539978311688\n",
      "Std for the high estimator: 0.09960051021132751\n",
      "Point estimate: 5.797046861677984\n"
     ]
    }
   ],
   "source": [
    "mean_v = np.mean(eff_low)\n",
    "mean_V = np.mean(eff_high)\n",
    "\n",
    "z = 1.96\n",
    "\n",
    "std_v = 1/(n-1) * np.sum((eff_low - mean_v)**2)\n",
    "std_V = 1/(n-1) * np.sum((eff_high - mean_V)**2)\n",
    "print('90% confidence interval: [', mean_v - z * std_v / np.sqrt(n), mean_V + z * std_V / np.sqrt(n),']')\n",
    "\n",
    "print('Low estimator:', mean_v)\n",
    "print('High estimator:', mean_V)\n",
    "print('Std error for the low estimator:', z * std_v/np.sqrt(n))\n",
    "print('Std for the high estimator:', z * std_V/np.sqrt(n))\n",
    "print('Point estimate:', 0.5 * (mean_v + mean_V))"
   ]
  },
  {
   "cell_type": "markdown",
   "metadata": {},
   "source": [
    "With variance reduction techniques"
   ]
  },
  {
   "cell_type": "markdown",
   "metadata": {},
   "source": []
  }
 ],
 "metadata": {
  "kernelspec": {
   "display_name": "montecarlo",
   "language": "python",
   "name": "python3"
  },
  "language_info": {
   "codemirror_mode": {
    "name": "ipython",
    "version": 3
   },
   "file_extension": ".py",
   "mimetype": "text/x-python",
   "name": "python",
   "nbconvert_exporter": "python",
   "pygments_lexer": "ipython3",
   "version": "3.12.1"
  }
 },
 "nbformat": 4,
 "nbformat_minor": 2
}
