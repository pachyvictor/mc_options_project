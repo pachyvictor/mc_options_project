{
 "cells": [
  {
   "cell_type": "code",
   "execution_count": 32,
   "metadata": {},
   "outputs": [],
   "source": [
    "import numpy as np\n",
    "import matplotlib.pyplot as plt"
   ]
  },
  {
   "cell_type": "code",
   "execution_count": 35,
   "metadata": {},
   "outputs": [],
   "source": [
    "def successor(X, s, r, m, T):\n",
    "    h = T/m\n",
    "    z = np.random.normal()\n",
    "    return X * np.exp((r - 0.5 * s**2) * h + s * np.sqrt(h) * z)\n",
    "\n",
    "def black_scholes(X0, s, r, m, T):\n",
    "    X = [X0]\n",
    "    for i in range(m):\n",
    "        X.append(successor(X[-1], s, r, m, T))\n",
    "    return X\n",
    "\n",
    "def payoff(a, K):\n",
    "    \"\"\"\n",
    "    Payoff function for a Bermudan put option\n",
    "    \"\"\"\n",
    "    return np.maximum(K - a, 0)"
   ]
  },
  {
   "cell_type": "code",
   "execution_count": 34,
   "metadata": {},
   "outputs": [
    {
     "ename": "SyntaxError",
     "evalue": "incomplete input (857822101.py, line 13)",
     "output_type": "error",
     "traceback": [
      "\u001b[1;36m  Cell \u001b[1;32mIn[34], line 13\u001b[1;36m\u001b[0m\n\u001b[1;33m    \u001b[0m\n\u001b[1;37m    ^\u001b[0m\n\u001b[1;31mSyntaxError\u001b[0m\u001b[1;31m:\u001b[0m incomplete input\n"
     ]
    }
   ],
   "source": [
    "def rtree(X0, m, b, s, r, T):\n",
    "    w = np.zeros(m)     # to know at which branch we are\n",
    "    v = np.zeros((b, m))   # to store the value of the option at each node\n",
    "\n",
    "    v[0, 0] = X0\n",
    "    w[0] = 1\n",
    "    for j in range(1, m):\n",
    "        v[0, j] = successor(v[0, j-1], s, r, m, T)\n",
    "        w[j] = 1\n",
    "    \n",
    "    j = m - 1\n",
    "    while j >= 0:\n",
    "        if j == m-1 and w[j] < b-1:\n",
    "            v[w[j], j] = "
   ]
  },
  {
   "cell_type": "code",
   "execution_count": null,
   "metadata": {},
   "outputs": [],
   "source": []
  }
 ],
 "metadata": {
  "kernelspec": {
   "display_name": "montecarlo",
   "language": "python",
   "name": "python3"
  },
  "language_info": {
   "codemirror_mode": {
    "name": "ipython",
    "version": 3
   },
   "file_extension": ".py",
   "mimetype": "text/x-python",
   "name": "python",
   "nbconvert_exporter": "python",
   "pygments_lexer": "ipython3",
   "version": "3.12.1"
  }
 },
 "nbformat": 4,
 "nbformat_minor": 2
}
