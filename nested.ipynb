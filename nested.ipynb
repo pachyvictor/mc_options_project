{
 "cells": [
  {
   "cell_type": "code",
   "execution_count": 140,
   "metadata": {},
   "outputs": [
    {
     "name": "stderr",
     "output_type": "stream",
     "text": [
      "c:\\Users\\victo\\anaconda3\\envs\\montecarlo\\Lib\\site-packages\\tqdm\\auto.py:21: TqdmWarning: IProgress not found. Please update jupyter and ipywidgets. See https://ipywidgets.readthedocs.io/en/stable/user_install.html\n",
      "  from .autonotebook import tqdm as notebook_tqdm\n"
     ]
    }
   ],
   "source": [
    "import numpy as np\n",
    "import matplotlib.pyplot as plt\n",
    "from tqdm.auto import tqdm"
   ]
  },
  {
   "cell_type": "code",
   "execution_count": 141,
   "metadata": {},
   "outputs": [],
   "source": [
    "def successor(X, s, r, delta, m, T):\n",
    "    h = T/(m-1)\n",
    "    z = np.random.normal()\n",
    "    return X * np.exp((r - delta - 0.5 * s**2) * h + s * np.sqrt(h) * z)\n",
    "\n",
    "def black_scholes(X0, s, r, delta, m, T):\n",
    "    X = [X0]\n",
    "    for i in range(m):\n",
    "        X.append(successor(X[-1], s, r, delta, m, T))\n",
    "    return X\n",
    "\n",
    "def put_func(a, K):\n",
    "    \"\"\"\n",
    "    Payoff function for a Bermudan put option\n",
    "    \"\"\"\n",
    "    return np.maximum(K - a, 0)\n",
    "\n",
    "def call_func(a, K):\n",
    "    \"\"\"\n",
    "    Payoff function for a Bermudan call option\n",
    "    \"\"\"\n",
    "    return np.maximum(a - K, 0)\n",
    "\n",
    "def high_estimator(payoff_func, current, next, K):\n",
    "    return max(payoff_func(current, K), np.mean(next))\n",
    "\n",
    "def low_estimator(payoff_func, current, next, K):\n",
    "    b = len(next)\n",
    "    v_ = np.zeros(b)\n",
    "    for k in range(b):\n",
    "        new = np.concatenate([next[:k], next[k:]])\n",
    "        if np.mean(new) <= payoff_func(current, K):\n",
    "            v_[k] = payoff_func(current, K)\n",
    "        else:\n",
    "            v_[k] = next[k]\n",
    "    return np.mean(v_)\n"
   ]
  },
  {
   "cell_type": "code",
   "execution_count": 142,
   "metadata": {},
   "outputs": [],
   "source": [
    "def rtree(X0, m, b, s, r, delta, K, T, payoff_func):\n",
    "    w = np.zeros(m).astype(int)     # to know at which branch we are\n",
    "    v = np.zeros((b, m))   # to store the value of the option and high estimator at each node\n",
    "    V = np.zeros((b, m))   # to store the value of the option and low estimator at each node\n",
    "\n",
    "    v[0, 0] = X0\n",
    "    V[0, 0] = X0\n",
    "    \n",
    "    w[0] = 0\n",
    "    for j in range(1, m):\n",
    "        v[0, j] = successor(v[0, j-1], s, r, delta, m, T)\n",
    "        V[0, j] = successor(V[0, j-1], s, r, delta, m, T)\n",
    "        w[j] = 0\n",
    "    j = m - 1\n",
    "    while j >= 0:\n",
    "        if j == m-1 and w[j] < b-1:\n",
    "            v[w[j], j] = payoff_func(v[w[j], j], K)\n",
    "            V[w[j], j] = payoff_func(V[w[j], j], K)\n",
    "            v[w[j]+1, j] = successor(v[w[j-1], j-1], s, r, delta, m, T)\n",
    "            V[w[j]+1, j] = successor(V[w[j-1], j-1], s, r, delta, m, T)\n",
    "            w[j] += 1\n",
    "        elif j == m-1 and w[j] == b-1:\n",
    "            v[w[j], j] = payoff_func(v[w[j], j], K)\n",
    "            V[w[j], j] = payoff_func(V[w[j], j], K)\n",
    "            w[j] = 0\n",
    "            j -= 1\n",
    "        elif j < m-1 and w[j] < b-1:\n",
    "            V[w[j], j] = high_estimator(payoff_func, V[w[j], j], V[:, j+1], K)\n",
    "            v[w[j], j] = low_estimator(payoff_func, v[w[j], j], v[:, j+1], K)\n",
    "            if j > 0:\n",
    "                w[j] += 1\n",
    "                v[w[j], j] = successor(v[w[j-1], j-1], s, r, delta, m, T)\n",
    "                V[w[j], j] = successor(V[w[j-1], j-1], s, r, delta, m, T)\n",
    "                for i in range(j+1, m):\n",
    "                    v[0, i] = successor(v[w[j], i-1], s, r, delta, m, T)\n",
    "                    V[0, i] = successor(V[w[j], i-1], s, r, delta, m, T)\n",
    "                j = m - 1\n",
    "            else:\n",
    "                break\n",
    "        elif j < m-1 and w[j] == b-1:\n",
    "            v[w[j], j] = low_estimator(payoff_func, v[w[j], j], v[:, j+1], K)\n",
    "            V[w[j], j] = high_estimator(payoff_func, V[w[j], j], V[:, j+1], K)\n",
    "            w[j] = 0\n",
    "            j -= 1\n",
    "    return v[0, 0], V[0, 0]"
   ]
  },
  {
   "cell_type": "code",
   "execution_count": 147,
   "metadata": {},
   "outputs": [],
   "source": [
    "def monte_carlo(n, X0, m, b, s, r, delta, K, T, payoff_func):\n",
    "    eff_low = []\n",
    "    eff_high = []\n",
    "    for _ in tqdm(range(n)):\n",
    "        eff_low.append(rtree(X0, m, b, s, r, delta, K, T, payoff_func)[0])\n",
    "        eff_high.append(rtree(X0, m, b, s, r, delta, K, T, payoff_func)[1])\n",
    "    return eff_low, eff_high"
   ]
  },
  {
   "cell_type": "code",
   "execution_count": 160,
   "metadata": {},
   "outputs": [
    {
     "name": "stderr",
     "output_type": "stream",
     "text": [
      " 32%|███▏      | 32/100 [06:03<13:13, 11.66s/it]"
     ]
    }
   ],
   "source": [
    "n = 100\n",
    "X0 = 100\n",
    "m = 4\n",
    "b = 40\n",
    "s = 0.2\n",
    "r = 0.05\n",
    "delta = 0.1\n",
    "K = 100\n",
    "T = 1\n",
    "eff_low, eff_high = monte_carlo(n, X0, m, b, s, r, delta, K, T, call_func)"
   ]
  },
  {
   "cell_type": "code",
   "execution_count": 159,
   "metadata": {},
   "outputs": [
    {
     "name": "stdout",
     "output_type": "stream",
     "text": [
      "90% confidence interval for the low estimator: [ 5.735108864447039 6.146186691939524 ]\n",
      "Std for the low estimator: 1.1091260598866803\n",
      "Std for the high estimator: 1.0664760793334738\n",
      "Point estimate: 5.940647778193281\n"
     ]
    }
   ],
   "source": [
    "std_v = np.std(eff_low)\n",
    "std_V = np.std(eff_high)\n",
    "mean_v = np.mean(eff_low)\n",
    "mean_V = np.mean(eff_high)\n",
    "low_est = mean_v - 1.96 * std_v / np.sqrt(n)\n",
    "high_est = mean_V + 1.96 * std_V / np.sqrt(n)\n",
    "print('90% confidence interval for the low estimator: [', low_est, high_est,']')\n",
    "print('Std for the low estimator:', std_v)\n",
    "print('Std for the high estimator:', std_V)\n",
    "print('Point estimate:', np.mean([low_est, high_est]))"
   ]
  },
  {
   "cell_type": "code",
   "execution_count": 157,
   "metadata": {},
   "outputs": [
    {
     "data": {
      "text/plain": [
       "[<matplotlib.lines.Line2D at 0x1cc95cb0530>]"
      ]
     },
     "execution_count": 157,
     "metadata": {},
     "output_type": "execute_result"
    },
    {
     "data": {
      "image/png": "[encoded data removed]",
      "text/plain": [
       "<Figure size 640x480 with 1 Axes>"
      ]
     },
     "metadata": {},
     "output_type": "display_data"
    }
   ],
   "source": [
    "plt.plot([np.mean(eff_low[:i]) - 1.96*np.std(eff_low[:i])/np.sqrt(i) for i in range(1, n)])\n",
    "plt.plot([np.mean(eff_high[:i]) + 1.96*np.std(eff_high[:i])/np.sqrt(i) for i in range(1, n)])"
   ]
  },
  {
   "cell_type": "code",
   "execution_count": null,
   "metadata": {},
   "outputs": [],
   "source": []
  }
 ],
 "metadata": {
  "kernelspec": {
   "display_name": "montecarlo",
   "language": "python",
   "name": "python3"
  },
  "language_info": {
   "codemirror_mode": {
    "name": "ipython",
    "version": 3
   },
   "file_extension": ".py",
   "mimetype": "text/x-python",
   "name": "python",
   "nbconvert_exporter": "python",
   "pygments_lexer": "ipython3",
   "version": "3.12.1"
  }
 },
 "nbformat": 4,
 "nbformat_minor": 2
}
