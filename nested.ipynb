{
 "cells": [
  {
   "cell_type": "code",
   "execution_count": 1,
   "metadata": {},
   "outputs": [
    {
     "name": "stderr",
     "output_type": "stream",
     "text": [
      "c:\\Users\\victo\\anaconda3\\envs\\montecarlo\\Lib\\site-packages\\tqdm\\auto.py:21: TqdmWarning: IProgress not found. Please update jupyter and ipywidgets. See https://ipywidgets.readthedocs.io/en/stable/user_install.html\n",
      "  from .autonotebook import tqdm as notebook_tqdm\n"
     ]
    }
   ],
   "source": [
    "import numpy as np\n",
    "import matplotlib.pyplot as plt\n",
    "from tqdm.auto import tqdm"
   ]
  },
  {
   "cell_type": "code",
   "execution_count": 14,
   "metadata": {},
   "outputs": [],
   "source": [
    "def successor(X, s, r, delta, m, T):\n",
    "    h = T/m\n",
    "    z = np.random.normal()\n",
    "    return X * np.exp((r - delta - (0.5 * s**2)) * h + s * np.sqrt(h) * z)\n",
    "\n",
    "def black_scholes(X0, s, r, delta, m, T):\n",
    "    X = [X0]\n",
    "    for i in range(m):\n",
    "        X.append(successor(X[-1], s, r, delta, m, T))\n",
    "    return X\n",
    "\n",
    "def put_func(a, K, r, t):\n",
    "    \"\"\"\n",
    "    Payoff function for a Bermudan put option\n",
    "    \"\"\"\n",
    "    return np.exp(-r*t) * np.maximum(K - a, 0)\n",
    "\n",
    "def call_func(a, K, r, t):\n",
    "    \"\"\"\n",
    "    Payoff function for a Bermudan call option\n",
    "    \"\"\"\n",
    "    return np.exp(-r*t) * np.maximum(a - K, 0)\n",
    "\n",
    "def high_estimator(payoff_func, current, nextt, K, r, t, h):\n",
    "    discount_factor = np.exp(-r*h)\n",
    "    return max(payoff_func(current, K, r, t), np.exp(-r*t)*np.mean(nextt))\n",
    "\n",
    "# def low_estimator(payoff_func, current, nextt, K, r, t):\n",
    "#     b = len(nextt)\n",
    "#     v_ = np.zeros(b)\n",
    "#     for k in range(b):\n",
    "#         new = np.concatenate([nextt[:k], nextt[k+1:]]) # remove the k-th element\n",
    "#         if np.mean(new) <= payoff_func(current, K, r, t):\n",
    "#             v_[k] = payoff_func(current, K, r, t)\n",
    "#         else:\n",
    "#             v_[k] = nextt[k]\n",
    "#     return np.mean(v_)\n",
    "\n",
    "\n",
    "# Faster low estimator\n",
    "def low_estimator(payoff_func, current, nextt, K, r, t, h):\n",
    "    b = len(nextt)\n",
    "    v_ = np.zeros(b)\n",
    "    discount_factor = np.exp(-r*h)\n",
    "    mean = discount_factor * np.mean(nextt[1:])\n",
    "\n",
    "    if mean <= payoff_func(current, K, r, t):\n",
    "        v_[0] = payoff_func(current, K, r, t)\n",
    "    else:\n",
    "        v_[0] = nextt[0]\n",
    "\n",
    "    for k in range(1, b):\n",
    "        mean += nextt[k-1]/(b-1) * discount_factor\n",
    "        mean -= nextt[k]/(b-1) * discount_factor\n",
    "        if mean <= payoff_func(current, K, r, t):\n",
    "            v_[k] = payoff_func(current, K, r, t)\n",
    "        else:\n",
    "            v_[k] = nextt[k]\n",
    "    return np.mean(v_)"
   ]
  },
  {
   "cell_type": "code",
   "execution_count": 15,
   "metadata": {},
   "outputs": [],
   "source": [
    "def rtree(X0, m, b, s, r, delta, K, T, payoff_func):\n",
    "    h = T/m\n",
    "\n",
    "    w = np.zeros(m+1).astype(int)     # to know at which branch we are\n",
    "    # Values of the estimators and asset\n",
    "    X = np.zeros((b, m+1))\n",
    "    v = np.zeros((b, m+1))   \n",
    "    V = np.zeros((b, m+1))   \n",
    "\n",
    "    # Root nodes\n",
    "    X[0, 0] = X0\n",
    "\n",
    "    # Initialize the first branches\n",
    "    for j in range(1, m+1):\n",
    "        X[0, j] = successor(X[0, j-1], s, r, delta, m, T)\n",
    "    \n",
    "    j = m\n",
    "\n",
    "    while j >= 1:\n",
    "        if j == m and w[j] < b-1:\n",
    "            v[w[j], j] = payoff_func(X[w[j], j], K, r, j*h)\n",
    "            V[w[j], j] = payoff_func(X[w[j], j], K, r, j*h)\n",
    "            X[w[j]+1, j] = successor(X[w[j-1], j-1], s, r, delta, m, T)\n",
    "            w[j] += 1\n",
    "        \n",
    "        elif j == m and w[j] == b-1:\n",
    "            v[w[j], j] = payoff_func(X[w[j], j], K, r, j*h)\n",
    "            V[w[j], j] = payoff_func(X[w[j], j], K, r, j*h)\n",
    "            w[j] = 0\n",
    "            j -= 1\n",
    "        \n",
    "        elif j < m and w[j] < b-1:\n",
    "            v[w[j], j] = low_estimator(payoff_func, X[w[j], j], v[:, j+1], K, r, j*h, h)\n",
    "            V[w[j], j] = high_estimator(payoff_func, X[w[j], j], V[:, j+1], K, r, j*h, h)\n",
    "            if j > 0:\n",
    "                w[j] += 1\n",
    "                X[w[j], j] = successor(X[w[j-1], j-1], s, r, delta, m, T)\n",
    "                for i in range(j+1, m+1):\n",
    "                    X[0, i] = successor(X[w[j], i-1], s, r, delta, m, T)\n",
    "                j = m\n",
    "            else:\n",
    "                break\n",
    "        \n",
    "        elif j < m and w[j] == b-1:\n",
    "            v[w[j], j] = low_estimator(payoff_func, X[w[j], j], v[:, j+1], K, r, j*h, h)\n",
    "            V[w[j], j] = high_estimator(payoff_func, X[w[j], j], V[:, j+1], K, r, j*h, h)\n",
    "            w[j] = 0\n",
    "            j -= 1\n",
    "\n",
    "    return low_estimator(payoff_func, X0, v[:, 1], K, r, 0, h), high_estimator(payoff_func, X0, V[:, 1], K, r, 0, h)"
   ]
  },
  {
   "cell_type": "code",
   "execution_count": 16,
   "metadata": {},
   "outputs": [],
   "source": [
    "def monte_carlo(n, X0, m, b, s, r, delta, K, T, payoff_func):\n",
    "    eff_low = []\n",
    "    eff_high = []\n",
    "    for _ in tqdm(range(n)):\n",
    "        eff_low.append(rtree(X0, m, b, s, r, delta, K, T, payoff_func)[0])\n",
    "        eff_high.append(rtree(X0, m, b, s, r, delta, K, T, payoff_func)[1])\n",
    "    return np.array(eff_low), np.array(eff_high)"
   ]
  },
  {
   "cell_type": "code",
   "execution_count": 19,
   "metadata": {},
   "outputs": [
    {
     "name": "stderr",
     "output_type": "stream",
     "text": [
      " 39%|███▉      | 39/100 [08:23<13:08, 12.92s/it]\n"
     ]
    },
    {
     "ename": "KeyboardInterrupt",
     "evalue": "",
     "output_type": "error",
     "traceback": [
      "\u001b[1;31m---------------------------------------------------------------------------\u001b[0m",
      "\u001b[1;31mKeyboardInterrupt\u001b[0m                         Traceback (most recent call last)",
      "Cell \u001b[1;32mIn[19], line 10\u001b[0m\n\u001b[0;32m      8\u001b[0m K \u001b[38;5;241m=\u001b[39m \u001b[38;5;241m100\u001b[39m\n\u001b[0;32m      9\u001b[0m T \u001b[38;5;241m=\u001b[39m \u001b[38;5;241m1\u001b[39m\n\u001b[1;32m---> 10\u001b[0m eff_low, eff_high \u001b[38;5;241m=\u001b[39m \u001b[43mmonte_carlo\u001b[49m\u001b[43m(\u001b[49m\u001b[43mn\u001b[49m\u001b[43m,\u001b[49m\u001b[43m \u001b[49m\u001b[43mX0\u001b[49m\u001b[43m,\u001b[49m\u001b[43m \u001b[49m\u001b[43mm\u001b[49m\u001b[43m,\u001b[49m\u001b[43m \u001b[49m\u001b[43mb\u001b[49m\u001b[43m,\u001b[49m\u001b[43m \u001b[49m\u001b[43ms\u001b[49m\u001b[43m,\u001b[49m\u001b[43m \u001b[49m\u001b[43mr\u001b[49m\u001b[43m,\u001b[49m\u001b[43m \u001b[49m\u001b[43mdelta\u001b[49m\u001b[43m,\u001b[49m\u001b[43m \u001b[49m\u001b[43mK\u001b[49m\u001b[43m,\u001b[49m\u001b[43m \u001b[49m\u001b[43mT\u001b[49m\u001b[43m,\u001b[49m\u001b[43m \u001b[49m\u001b[43mput_func\u001b[49m\u001b[43m)\u001b[49m\n",
      "Cell \u001b[1;32mIn[16], line 5\u001b[0m, in \u001b[0;36mmonte_carlo\u001b[1;34m(n, X0, m, b, s, r, delta, K, T, payoff_func)\u001b[0m\n\u001b[0;32m      3\u001b[0m eff_high \u001b[38;5;241m=\u001b[39m []\n\u001b[0;32m      4\u001b[0m \u001b[38;5;28;01mfor\u001b[39;00m _ \u001b[38;5;129;01min\u001b[39;00m tqdm(\u001b[38;5;28mrange\u001b[39m(n)):\n\u001b[1;32m----> 5\u001b[0m     eff_low\u001b[38;5;241m.\u001b[39mappend(\u001b[43mrtree\u001b[49m\u001b[43m(\u001b[49m\u001b[43mX0\u001b[49m\u001b[43m,\u001b[49m\u001b[43m \u001b[49m\u001b[43mm\u001b[49m\u001b[43m,\u001b[49m\u001b[43m \u001b[49m\u001b[43mb\u001b[49m\u001b[43m,\u001b[49m\u001b[43m \u001b[49m\u001b[43ms\u001b[49m\u001b[43m,\u001b[49m\u001b[43m \u001b[49m\u001b[43mr\u001b[49m\u001b[43m,\u001b[49m\u001b[43m \u001b[49m\u001b[43mdelta\u001b[49m\u001b[43m,\u001b[49m\u001b[43m \u001b[49m\u001b[43mK\u001b[49m\u001b[43m,\u001b[49m\u001b[43m \u001b[49m\u001b[43mT\u001b[49m\u001b[43m,\u001b[49m\u001b[43m \u001b[49m\u001b[43mpayoff_func\u001b[49m\u001b[43m)\u001b[49m[\u001b[38;5;241m0\u001b[39m])\n\u001b[0;32m      6\u001b[0m     eff_high\u001b[38;5;241m.\u001b[39mappend(rtree(X0, m, b, s, r, delta, K, T, payoff_func)[\u001b[38;5;241m1\u001b[39m])\n\u001b[0;32m      7\u001b[0m \u001b[38;5;28;01mreturn\u001b[39;00m np\u001b[38;5;241m.\u001b[39marray(eff_low), np\u001b[38;5;241m.\u001b[39marray(eff_high)\n",
      "Cell \u001b[1;32mIn[15], line 23\u001b[0m, in \u001b[0;36mrtree\u001b[1;34m(X0, m, b, s, r, delta, K, T, payoff_func)\u001b[0m\n\u001b[0;32m     21\u001b[0m     v[w[j], j] \u001b[38;5;241m=\u001b[39m payoff_func(X[w[j], j], K, r, j\u001b[38;5;241m*\u001b[39mh)\n\u001b[0;32m     22\u001b[0m     V[w[j], j] \u001b[38;5;241m=\u001b[39m payoff_func(X[w[j], j], K, r, j\u001b[38;5;241m*\u001b[39mh)\n\u001b[1;32m---> 23\u001b[0m     X[w[j]\u001b[38;5;241m+\u001b[39m\u001b[38;5;241m1\u001b[39m, j] \u001b[38;5;241m=\u001b[39m \u001b[43msuccessor\u001b[49m\u001b[43m(\u001b[49m\u001b[43mX\u001b[49m\u001b[43m[\u001b[49m\u001b[43mw\u001b[49m\u001b[43m[\u001b[49m\u001b[43mj\u001b[49m\u001b[38;5;241;43m-\u001b[39;49m\u001b[38;5;241;43m1\u001b[39;49m\u001b[43m]\u001b[49m\u001b[43m,\u001b[49m\u001b[43m \u001b[49m\u001b[43mj\u001b[49m\u001b[38;5;241;43m-\u001b[39;49m\u001b[38;5;241;43m1\u001b[39;49m\u001b[43m]\u001b[49m\u001b[43m,\u001b[49m\u001b[43m \u001b[49m\u001b[43ms\u001b[49m\u001b[43m,\u001b[49m\u001b[43m \u001b[49m\u001b[43mr\u001b[49m\u001b[43m,\u001b[49m\u001b[43m \u001b[49m\u001b[43mdelta\u001b[49m\u001b[43m,\u001b[49m\u001b[43m \u001b[49m\u001b[43mm\u001b[49m\u001b[43m,\u001b[49m\u001b[43m \u001b[49m\u001b[43mT\u001b[49m\u001b[43m)\u001b[49m\n\u001b[0;32m     24\u001b[0m     w[j] \u001b[38;5;241m+\u001b[39m\u001b[38;5;241m=\u001b[39m \u001b[38;5;241m1\u001b[39m\n\u001b[0;32m     26\u001b[0m \u001b[38;5;28;01melif\u001b[39;00m j \u001b[38;5;241m==\u001b[39m m \u001b[38;5;129;01mand\u001b[39;00m w[j] \u001b[38;5;241m==\u001b[39m b\u001b[38;5;241m-\u001b[39m\u001b[38;5;241m1\u001b[39m:\n",
      "Cell \u001b[1;32mIn[14], line 4\u001b[0m, in \u001b[0;36msuccessor\u001b[1;34m(X, s, r, delta, m, T)\u001b[0m\n\u001b[0;32m      2\u001b[0m h \u001b[38;5;241m=\u001b[39m T\u001b[38;5;241m/\u001b[39mm\n\u001b[0;32m      3\u001b[0m z \u001b[38;5;241m=\u001b[39m np\u001b[38;5;241m.\u001b[39mrandom\u001b[38;5;241m.\u001b[39mnormal()\n\u001b[1;32m----> 4\u001b[0m \u001b[38;5;28;01mreturn\u001b[39;00m X \u001b[38;5;241m*\u001b[39m np\u001b[38;5;241m.\u001b[39mexp((r \u001b[38;5;241m-\u001b[39m delta \u001b[38;5;241m-\u001b[39m (\u001b[38;5;241m0.5\u001b[39m \u001b[38;5;241m*\u001b[39m s\u001b[38;5;241m*\u001b[39m\u001b[38;5;241m*\u001b[39m\u001b[38;5;241m2\u001b[39m)) \u001b[38;5;241m*\u001b[39m h \u001b[38;5;241m+\u001b[39m s \u001b[38;5;241m*\u001b[39m \u001b[43mnp\u001b[49m\u001b[38;5;241;43m.\u001b[39;49m\u001b[43msqrt\u001b[49m\u001b[43m(\u001b[49m\u001b[43mh\u001b[49m\u001b[43m)\u001b[49m \u001b[38;5;241m*\u001b[39m z)\n",
      "\u001b[1;31mKeyboardInterrupt\u001b[0m: "
     ]
    }
   ],
   "source": [
    "n = 100\n",
    "X0 = 100\n",
    "m = 3\n",
    "b = 50\n",
    "s = 0.2\n",
    "r = 0.1\n",
    "delta = 0.05\n",
    "K = 100\n",
    "T = 1\n",
    "eff_low, eff_high = monte_carlo(n, X0, m, b, s, r, delta, K, T, put_func)"
   ]
  },
  {
   "cell_type": "code",
   "execution_count": 217,
   "metadata": {},
   "outputs": [],
   "source": [
    "parameters = [n, X0, m, b, s, r, delta, K, T, 'put']\n",
    "np.save('parametersb50.npy', parameters)\n",
    "np.save('runb50.npy', [eff_low, eff_high])"
   ]
  },
  {
   "cell_type": "code",
   "execution_count": 6,
   "metadata": {},
   "outputs": [],
   "source": [
    "parameters = np.load('parametersb50.npy')\n",
    "eff_low, eff_high = np.load('runb50.npy')"
   ]
  },
  {
   "cell_type": "code",
   "execution_count": 18,
   "metadata": {},
   "outputs": [
    {
     "name": "stdout",
     "output_type": "stream",
     "text": [
      "90% confidence interval: [ 5.229328786428353 6.033108428914634 ]\n",
      "Low estimator: 5.474537898558179\n",
      "High estimator: 5.717184851644716\n",
      "Std error for the low estimator: 0.24520911212982574\n",
      "Std for the high estimator: 0.31592357726991815\n",
      "Point estimate: 5.595861375101448\n"
     ]
    }
   ],
   "source": [
    "mean_v = np.mean(eff_low)\n",
    "mean_V = np.mean(eff_high)\n",
    "\n",
    "z = 1.96\n",
    "\n",
    "std_v = 1/(n-1) * np.sum((eff_low - mean_v)**2)\n",
    "std_V = 1/(n-1) * np.sum((eff_high - mean_V)**2)\n",
    "\n",
    "std_errlow = z * std_v / np.sqrt(n)\n",
    "std_errhigh = z * std_V / np.sqrt(n)\n",
    "print('90% confidence interval: [', mean_v - std_errlow, mean_V + std_errhigh,']')\n",
    "\n",
    "print('Low estimator:', mean_v)\n",
    "print('High estimator:', mean_V)\n",
    "print('Std error for the low estimator:', std_errlow)\n",
    "print('Std for the high estimator:', std_errhigh)\n",
    "print('Point estimate:', 0.5 * (mean_v + mean_V))\n",
    "\n",
    "points = 0.5 * (eff_high + eff_low)"
   ]
  },
  {
   "cell_type": "markdown",
   "metadata": {},
   "source": [
    "With variance reduction techniques"
   ]
  },
  {
   "cell_type": "markdown",
   "metadata": {},
   "source": []
  }
 ],
 "metadata": {
  "kernelspec": {
   "display_name": "montecarlo",
   "language": "python",
   "name": "python3"
  },
  "language_info": {
   "codemirror_mode": {
    "name": "ipython",
    "version": 3
   },
   "file_extension": ".py",
   "mimetype": "text/x-python",
   "name": "python",
   "nbconvert_exporter": "python",
   "pygments_lexer": "ipython3",
   "version": "3.12.1"
  }
 },
 "nbformat": 4,
 "nbformat_minor": 2
}
