{
 "cells": [
  {
   "cell_type": "code",
   "execution_count": 1,
   "metadata": {},
   "outputs": [
    {
     "name": "stderr",
     "output_type": "stream",
     "text": [
      "c:\\Users\\victo\\anaconda3\\envs\\montecarlo\\Lib\\site-packages\\tqdm\\auto.py:21: TqdmWarning: IProgress not found. Please update jupyter and ipywidgets. See https://ipywidgets.readthedocs.io/en/stable/user_install.html\n",
      "  from .autonotebook import tqdm as notebook_tqdm\n"
     ]
    }
   ],
   "source": [
    "import numpy as np\n",
    "import matplotlib.pyplot as plt\n",
    "from tqdm.auto import tqdm"
   ]
  },
  {
   "cell_type": "code",
   "execution_count": 6,
   "metadata": {},
   "outputs": [],
   "source": [
    "def successor(X, s, r, delta, m, T):\n",
    "    h = T/m\n",
    "    z = np.random.normal()\n",
    "    return X * np.exp(h * (r - delta - (s**2)/2) + s * np.sqrt(h) * z)\n",
    "\n",
    "def black_scholes(X0, s, r, m, T):\n",
    "    X = [X0]\n",
    "    for i in range(m):\n",
    "        X.append(successor(X[-1], s, r, m, T))\n",
    "    return X\n",
    "\n",
    "def put_func(a, K):\n",
    "    \"\"\"\n",
    "    Payoff function for a Bermudan put option\n",
    "    \"\"\"\n",
    "    return np.maximum(K - a, 0)\n",
    "\n",
    "def call_func(a, K):\n",
    "    \"\"\"\n",
    "    Payoff function for a Bermudan call option\n",
    "    \"\"\"\n",
    "    return np.maximum(a - K, 0)\n",
    "\n",
    "def high_estimator(payoff_func, current, nextt, K, r, h):\n",
    "    b = len(nextt)\n",
    "    discount_factor = np.exp(-r*h)\n",
    "    return max(payoff_func(current, K), discount_factor * np.sum(nextt)/b)\n",
    "\n",
    "def low_estimator(payoff_func, current, nextt, K, r, h):\n",
    "    b = len(nextt)\n",
    "    payoff = payoff_func(current, K)\n",
    "    discount_factor = np.exp(-r*h)\n",
    "    v_ = np.zeros(b)\n",
    "    somme = np.sum(nextt[1:])\n",
    "\n",
    "    if discount_factor * somme/(b-1) <= payoff:\n",
    "        v_[0] = payoff\n",
    "    else:\n",
    "        v_[0] = discount_factor * nextt[0]\n",
    "\n",
    "    for k in range(1, b):\n",
    "        somme += nextt[k - 1] - nextt[k]\n",
    "        if discount_factor * somme/(b-1) <= payoff:\n",
    "            v_[k] = payoff\n",
    "        else:\n",
    "            v_[k] = discount_factor * nextt[k]\n",
    "    return np.sum(v_)/b"
   ]
  },
  {
   "cell_type": "code",
   "execution_count": 7,
   "metadata": {},
   "outputs": [],
   "source": [
    "def random_tree(X0, m, b, s, r, delta, K, T, payoff_func):\n",
    "    w = np.zeros(m + 1).astype(int)\n",
    "    X = np.zeros((b, m + 1))\n",
    "    v = np.zeros((b, m + 1))\n",
    "    V = np.zeros((b, m + 1))\n",
    "\n",
    "    X[0, 0] = X0\n",
    "    v[0, 0] = X0\n",
    "    V[0, 0] = X0\n",
    "\n",
    "    for j in range(1, m + 1):\n",
    "        X[0, j] = successor(X[0, j-1], s, r, delta, m, T)\n",
    "        w[j] = 0\n",
    "    j = m\n",
    "\n",
    "    while j >= 0:\n",
    "        if j == m and w[j] < b - 1:\n",
    "            v[w[j], j] = payoff_func(X[w[j], j], K)\n",
    "            V[w[j], j] = payoff_func(X[w[j], j], K)\n",
    "            X[w[j] + 1, j] = successor(X[w[j - 1], j - 1], s, r, delta, m, T)\n",
    "            w[j] = w[j] + 1\n",
    "        \n",
    "        elif j == m and w[j] == b - 1:\n",
    "            v[w[j], j] = payoff_func(X[w[j], j], K)\n",
    "            V[w[j], j] = payoff_func(X[w[j], j], K)\n",
    "            w[j] = 0\n",
    "            j = j - 1\n",
    "\n",
    "        elif j < m and w[j] < b - 1:\n",
    "            v[w[j], j] = low_estimator(payoff_func, X[w[j], j], v[:, j+1], K, r, T/m)\n",
    "            V[w[j], j] = high_estimator(payoff_func, X[w[j], j], V[:, j+1], K, r, T/m)\n",
    "\n",
    "            if j > 0:\n",
    "                X[w[j] + 1, j] = successor(X[w[j - 1], j - 1], s, r, delta, m, T)\n",
    "                w[j] = w[j] + 1\n",
    "                for i in range(j + 1, m + 1):\n",
    "                    X[0, i] = successor(X[w[i - 1], i - 1], s, r, delta, m, T)\n",
    "                    w[i] = 0\n",
    "                j = m\n",
    "            else:\n",
    "                break\n",
    "\n",
    "        elif j < m and w[j] == b - 1:\n",
    "            v[w[j], j] = low_estimator(payoff_func, X[w[j], j], v[:, j+1], K, r, T/m)\n",
    "            V[w[j], j] = high_estimator(payoff_func, X[w[j], j], V[:, j+1], K, r, T/m)\n",
    "            w[j] = 0\n",
    "            j = j - 1\n",
    "\n",
    "    return max(v[0, 0], max(K - X0, 0)), V[0, 0]"
   ]
  },
  {
   "cell_type": "code",
   "execution_count": 8,
   "metadata": {},
   "outputs": [],
   "source": [
    "def monte_carlo(n, X0, m, b, s, r, delta, K, T, payoff_func):\n",
    "    eff_low = []\n",
    "    eff_high = []\n",
    "    for i in tqdm(range(n)):\n",
    "        tree = random_tree(X0, m, b, s, r, delta, K, T, payoff_func)\n",
    "        eff_low.append(tree[0])\n",
    "        eff_high.append(tree[1])\n",
    "    return np.array(eff_low), np.array(eff_high)"
   ]
  },
  {
   "cell_type": "code",
   "execution_count": 9,
   "metadata": {},
   "outputs": [
    {
     "name": "stderr",
     "output_type": "stream",
     "text": [
      "100%|██████████| 100/100 [00:00<00:00, 218.84it/s]\n"
     ]
    }
   ],
   "source": [
    "n = 100\n",
    "X0 = 100\n",
    "m = 3\n",
    "delta = 0.05\n",
    "b = 5\n",
    "s = 0.2\n",
    "r = 0.1\n",
    "K = 100\n",
    "T = 1\n",
    "eff_low, eff_high = monte_carlo(n, X0, m, b, s, r, delta, K, T, put_func)"
   ]
  },
  {
   "cell_type": "code",
   "execution_count": 11,
   "metadata": {},
   "outputs": [
    {
     "name": "stdout",
     "output_type": "stream",
     "text": [
      "90% confidence interval: [3.8577, 7.4251]\n",
      "Low estimator: 5.0220\n",
      "High estimator: 6.1488\n",
      "Std error for the low estimator: 1.1642145804915875\n",
      "Std for the high estimator: 1.2763003383639844\n",
      "Point estimate: 5.5854\n",
      "Error: 0.28%\n"
     ]
    }
   ],
   "source": [
    "mean_v = np.mean(eff_low)\n",
    "mean_V = np.mean(eff_high)\n",
    "\n",
    "std_v = 1/(n-1) * np.sum((eff_low - mean_v)**2)\n",
    "std_V = 1/(n-1) * np.sum((eff_high - mean_V)**2)\n",
    "\n",
    "z = 1.96\n",
    "\n",
    "std_errlow = z * std_v / np.sqrt(n)\n",
    "std_errhigh = z * std_V / np.sqrt(n)\n",
    "print(f'90% confidence interval: [{(mean_v - std_errlow):.4f}, {(mean_V + std_errhigh):.4f}]')\n",
    "\n",
    "true_value = 5.57\n",
    "\n",
    "print(f'Low estimator: {mean_v:.4f}')\n",
    "print(f'High estimator: {mean_V:.4f}')\n",
    "print('Std error for the low estimator:', std_errlow)\n",
    "print('Std for the high estimator:', std_errhigh)\n",
    "print(f'Point estimate: {0.5 * (mean_v + mean_V):.4f}')\n",
    "print(f'Error: {(abs(0.5 * (mean_v + mean_V) - true_value)/true_value)*100:.2f}%')"
   ]
  },
  {
   "cell_type": "code",
   "execution_count": null,
   "metadata": {},
   "outputs": [],
   "source": []
  }
 ],
 "metadata": {
  "kernelspec": {
   "display_name": "montecarlo",
   "language": "python",
   "name": "python3"
  },
  "language_info": {
   "codemirror_mode": {
    "name": "ipython",
    "version": 3
   },
   "file_extension": ".py",
   "mimetype": "text/x-python",
   "name": "python",
   "nbconvert_exporter": "python",
   "pygments_lexer": "ipython3",
   "version": "3.12.1"
  }
 },
 "nbformat": 4,
 "nbformat_minor": 2
}
