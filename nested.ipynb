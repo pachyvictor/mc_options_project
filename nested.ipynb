{
 "cells": [
  {
   "cell_type": "code",
   "execution_count": 91,
   "metadata": {},
   "outputs": [],
   "source": [
    "import numpy as np\n",
    "import matplotlib.pyplot as plt\n",
    "from tqdm.auto import tqdm"
   ]
  },
  {
   "cell_type": "code",
   "execution_count": 356,
   "metadata": {},
   "outputs": [],
   "source": [
    "def successor(X, s, r, m, T):\n",
    "    h = T/m\n",
    "    z = np.random.normal()\n",
    "    return X * np.exp(h * (r - 0.05 - (s**2)/2) + s * np.sqrt(h) * z)\n",
    "\n",
    "def black_scholes(X0, s, r, m, T):\n",
    "    X = [X0]\n",
    "    for i in range(m):\n",
    "        X.append(successor(X[-1], s, r, m, T))\n",
    "    return X\n",
    "\n",
    "def put_func(a, K):\n",
    "    \"\"\"\n",
    "    Payoff function for a Bermudan put option\n",
    "    \"\"\"\n",
    "    return np.maximum(K - a, 0)\n",
    "\n",
    "def call_func(a, K):\n",
    "    \"\"\"\n",
    "    Payoff function for a Bermudan call option\n",
    "    \"\"\"\n",
    "    return np.maximum(a - K, 0)\n",
    "\n",
    "def high_estimator(payoff_func, current, nextt, K, r, h):\n",
    "    b = len(nextt)\n",
    "    discount_factor = np.exp(-r*h)\n",
    "    return max(payoff_func(current, K), discount_factor * np.sum(nextt)/b)\n",
    "\n",
    "def low_estimator(payoff_func, current, nextt, K, r, h):\n",
    "    b = len(nextt)\n",
    "    payoff = payoff_func(current, K)\n",
    "    discount_factor = np.exp(-r*h)\n",
    "    v_ = np.zeros(b)\n",
    "\n",
    "    for k in range(b):\n",
    "        if discount_factor * np.sum(np.concatenate([nextt[:k], nextt[k+1:]]))/(b-1) <= payoff:\n",
    "            v_[k] = payoff\n",
    "        else:\n",
    "            v_[k] = discount_factor * nextt[k]\n",
    "    return np.sum(v_)/b"
   ]
  },
  {
   "cell_type": "code",
   "execution_count": 357,
   "metadata": {},
   "outputs": [],
   "source": [
    "def random_tree(X0, m, b, s, r, K, T, payoff_func, estimator):\n",
    "    w = np.zeros(m + 1).astype(int)\n",
    "    v = np.zeros((b, m + 1))\n",
    "\n",
    "    v[0, 0] = X0\n",
    "\n",
    "    for j in range(1, m + 1):\n",
    "        v[0, j] = successor(v[0, j-1], s, r, m, T)\n",
    "        w[j] = 0\n",
    "    j = m\n",
    "\n",
    "    while j >= 0:\n",
    "        if j == m and w[j] < b - 1:\n",
    "            v[w[j], j] = payoff_func(v[w[j], j], K)\n",
    "            v[w[j] + 1, j] = successor(v[w[j - 1], j - 1], s, r, m, T)\n",
    "            w[j] = w[j] + 1\n",
    "        \n",
    "        elif j == m and w[j] == b - 1:\n",
    "            v[w[j], j] = payoff_func(v[w[j], j], K)\n",
    "            w[j] = 0\n",
    "            j = j - 1\n",
    "\n",
    "        elif j < m and w[j] < b - 1:\n",
    "            v[w[j], j] = estimator(payoff_func, v[w[j], j], v[:, j+1], K, r, T/m) \n",
    "            if j > 0:\n",
    "                v[w[j] + 1, j] = successor(v[w[j - 1], j - 1], s, r, m, T)\n",
    "                w[j] = w[j] + 1\n",
    "                for i in range(j + 1, m + 1):\n",
    "                    v[0, i] = successor(v[w[i - 1], i - 1], s, r, m, T)\n",
    "                    w[i] = 0\n",
    "                j = m\n",
    "            else:\n",
    "                break\n",
    "\n",
    "        elif j < m and w[j] == b - 1:\n",
    "            v[w[j], j] = estimator(payoff_func, v[w[j], j], v[:, j+1], K, r, T/m)\n",
    "            w[j] = 0\n",
    "            j = j - 1\n",
    "\n",
    "    return v[0, 0]"
   ]
  },
  {
   "cell_type": "code",
   "execution_count": 358,
   "metadata": {},
   "outputs": [],
   "source": [
    "def monte_carlo(n, X0, m, b, s, r, K, T, payoff_func):\n",
    "    eff_high = []\n",
    "    for _ in tqdm(range(n)):\n",
    "        eff_high.append(random_tree(X0, m, b, s, r, K, T, payoff_func, high_estimator))\n",
    "    return np.array(eff_high)"
   ]
  },
  {
   "cell_type": "code",
   "execution_count": 359,
   "metadata": {},
   "outputs": [
    {
     "name": "stderr",
     "output_type": "stream",
     "text": [
      "100%|██████████| 100/100 [01:29<00:00,  1.11it/s]\n"
     ]
    }
   ],
   "source": [
    "n = 100\n",
    "X0 = 100\n",
    "m = 3\n",
    "b = 40\n",
    "s = 0.2\n",
    "r = 0.1\n",
    "K = 100\n",
    "T = 1\n",
    "eff_high = monte_carlo(n, X0, m, b, s, r, K, T, put_func)"
   ]
  },
  {
   "cell_type": "code",
   "execution_count": 361,
   "metadata": {},
   "outputs": [
    {
     "name": "stdout",
     "output_type": "stream",
     "text": [
      "High estimator: 5.814410019098981\n",
      "Std for the high estimator: 0.13618368052423663\n",
      "5.950593699623218\n"
     ]
    }
   ],
   "source": [
    "mean_V = np.mean(eff_high)\n",
    "\n",
    "z = 1.96\n",
    "\n",
    "std_V = 1/(n-1) * np.sum((eff_high - mean_V)**2)\n",
    "\n",
    "std_errhigh = z * std_V / np.sqrt(n)\n",
    "# print('90% confidence interval: [', mean_v - std_errlow, mean_V + std_errhigh,']')\n",
    "\n",
    "# print('Low estimator:', mean_v)\n",
    "print('High estimator:', mean_V)\n",
    "# print('Std error for the low estimator:', std_errlow)\n",
    "print('Std for the high estimator:', std_errhigh)\n",
    "print(mean_V + std_errhigh)\n",
    "# print('Point estimate:', 0.5 * (mean_v + mean_V))"
   ]
  },
  {
   "cell_type": "code",
   "execution_count": 154,
   "metadata": {},
   "outputs": [],
   "source": [
    "def monte_carlo(n, X0, m, b, s, r, K, T, payoff_func):\n",
    "    eff_low = []\n",
    "    eff_high = []\n",
    "    for _ in tqdm(range(n)):\n",
    "        arbre = rtree(X0, m, b, s, r, K, T, payoff_func)\n",
    "        eff_low.append(arbre[0])\n",
    "        eff_high.append(arbre[1])\n",
    "    return np.array(eff_low), np.array(eff_high)"
   ]
  },
  {
   "cell_type": "code",
   "execution_count": 155,
   "metadata": {},
   "outputs": [
    {
     "name": "stderr",
     "output_type": "stream",
     "text": [
      "  0%|          | 0/100 [00:00<?, ?it/s]"
     ]
    },
    {
     "name": "stderr",
     "output_type": "stream",
     "text": [
      "100%|██████████| 100/100 [00:32<00:00,  3.12it/s]\n"
     ]
    }
   ],
   "source": [
    "n = 100\n",
    "X0 = 1\n",
    "m = 3\n",
    "b = 20\n",
    "s = 0.5\n",
    "r = 0.1250\n",
    "K = 1\n",
    "T = 1\n",
    "eff_low, eff_high = monte_carlo(n, X0, m, b, s, r, K, T, put_func)"
   ]
  },
  {
   "cell_type": "code",
   "execution_count": 156,
   "metadata": {},
   "outputs": [
    {
     "name": "stdout",
     "output_type": "stream",
     "text": [
      "90% confidence interval: [ 0.11837931998162224 0.1249903383836918 ]\n",
      "Low estimator: 0.11845689628289215\n",
      "High estimator: 0.12490616375885708\n",
      "Std error for the low estimator: 7.757630126990608e-05\n",
      "Std for the high estimator: 8.417462483473813e-05\n",
      "Point estimate: 0.12168153002087462\n"
     ]
    }
   ],
   "source": [
    "mean_v = np.mean(eff_low)\n",
    "mean_V = np.mean(eff_high)\n",
    "\n",
    "z = 1.96\n",
    "\n",
    "std_v = 1/(n-1) * np.sum((eff_low - mean_v)**2)\n",
    "std_V = 1/(n-1) * np.sum((eff_high - mean_V)**2)\n",
    "\n",
    "std_errlow = z * std_v / np.sqrt(n)\n",
    "std_errhigh = z * std_V / np.sqrt(n)\n",
    "print('90% confidence interval: [', mean_v - std_errlow, mean_V + std_errhigh,']')\n",
    "\n",
    "print('Low estimator:', mean_v)\n",
    "print('High estimator:', mean_V)\n",
    "print('Std error for the low estimator:', std_errlow)\n",
    "print('Std for the high estimator:', std_errhigh)\n",
    "print('Point estimate:', 0.5 * (mean_v + mean_V))"
   ]
  },
  {
   "cell_type": "markdown",
   "metadata": {},
   "source": [
    "With variance reduction techniques"
   ]
  },
  {
   "cell_type": "markdown",
   "metadata": {},
   "source": []
  }
 ],
 "metadata": {
  "kernelspec": {
   "display_name": "montecarlo",
   "language": "python",
   "name": "python3"
  },
  "language_info": {
   "codemirror_mode": {
    "name": "ipython",
    "version": 3
   },
   "file_extension": ".py",
   "mimetype": "text/x-python",
   "name": "python",
   "nbconvert_exporter": "python",
   "pygments_lexer": "ipython3",
   "version": "3.12.1"
  }
 },
 "nbformat": 4,
 "nbformat_minor": 2
}
