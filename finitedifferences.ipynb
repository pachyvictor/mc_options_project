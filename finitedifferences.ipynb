{
 "cells": [
  {
   "cell_type": "code",
   "execution_count": 1,
   "metadata": {},
   "outputs": [],
   "source": [
    "import numpy as np\n",
    "import matplotlib.pyplot as plt"
   ]
  },
  {
   "cell_type": "code",
   "execution_count": 93,
   "metadata": {},
   "outputs": [],
   "source": [
    "def operator(K, s, r, m, l):\n",
    "    i_arr = np.linspace(1, l, l)\n",
    "    sub_diag = (-r*i_arr[1:] + s**2 * (i_arr[1:])**2)/2\n",
    "    diag_arr = -s**2 * (i_arr**2) - r\n",
    "    sup_diag = (r*i_arr[:-1] + s**2 * (i_arr[:-1])**2)/2\n",
    "\n",
    "    return np.diag(sub_diag, -1) + np.diag(diag_arr) + np.diag(sup_diag, 1)\n",
    "\n",
    "def add_bc(t, K, T, r, l):\n",
    "    return np.concatenate([np.array([(s**2 - r)/2 * K*np.exp(-r*(T-t))]),np.zeros(l-1)])\n",
    "\n",
    "def payoff(x, K, put_or_call='call'):\n",
    "    if put_or_call == 'call':\n",
    "        return np.maximum(x - K, 0)\n",
    "    elif put_or_call == 'put':\n",
    "        return np.maximum(K - x, 0)"
   ]
  },
  {
   "cell_type": "code",
   "execution_count": 102,
   "metadata": {},
   "outputs": [],
   "source": [
    "def finite_differences(K, s, r, T, m, l, alpha, beta, theta):\n",
    "    delta = (beta - alpha)/(l+1)\n",
    "    h = T/m\n",
    "    \n",
    "    x_grid = np.array([alpha + delta*i for i in range(1, l+1)])\n",
    "    u  = [0]*(m+1)\n",
    "    u[-1] = payoff(x_grid, K, 'put')   # terminal condition\n",
    "    A = operator(K, s, r, m, l)\n",
    "\n",
    "    for i in range(m - 1, -1, -1):\n",
    "        u[i] = np.dot(np.linalg.inv(np.eye(l) - h*A),(u[i+1] + h*add_bc(i*h, K, T, r, l)))\n",
    "\n",
    "    return x_grid, u[0]   # return the solution at t=0"
   ]
  },
  {
   "cell_type": "code",
   "execution_count": 103,
   "metadata": {},
   "outputs": [],
   "source": [
    "K = 100\n",
    "s = 0.2\n",
    "r = 0.05\n",
    "T = 1\n",
    "m = 1000\n",
    "l = 100\n",
    "alpha = 0\n",
    "beta = 2\n",
    "\n",
    "\n",
    "sol = finite_differences(K, s, r, T, m, l, alpha, beta, 0)"
   ]
  },
  {
   "cell_type": "code",
   "execution_count": 105,
   "metadata": {},
   "outputs": [
    {
     "data": {
      "text/plain": [
       "[<matplotlib.lines.Line2D at 0x129c6384fe0>]"
      ]
     },
     "execution_count": 105,
     "metadata": {},
     "output_type": "execute_result"
    },
    {
     "data": {
      "image/png": "[encoded data removed]",
      "text/plain": [
       "<Figure size 640x480 with 1 Axes>"
      ]
     },
     "metadata": {},
     "output_type": "display_data"
    }
   ],
   "source": [
    "plt.plot(*sol)"
   ]
  },
  {
   "cell_type": "code",
   "execution_count": null,
   "metadata": {},
   "outputs": [],
   "source": []
  }
 ],
 "metadata": {
  "kernelspec": {
   "display_name": "montecarlo",
   "language": "python",
   "name": "python3"
  },
  "language_info": {
   "codemirror_mode": {
    "name": "ipython",
    "version": 3
   },
   "file_extension": ".py",
   "mimetype": "text/x-python",
   "name": "python",
   "nbconvert_exporter": "python",
   "pygments_lexer": "ipython3",
   "version": "3.12.1"
  }
 },
 "nbformat": 4,
 "nbformat_minor": 2
}
