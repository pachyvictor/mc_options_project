{
 "cells": [
  {
   "cell_type": "code",
   "execution_count": 2,
   "metadata": {},
   "outputs": [
    {
     "name": "stderr",
     "output_type": "stream",
     "text": [
      "c:\\Users\\victo\\anaconda3\\envs\\montecarlo\\Lib\\site-packages\\tqdm\\auto.py:21: TqdmWarning: IProgress not found. Please update jupyter and ipywidgets. See https://ipywidgets.readthedocs.io/en/stable/user_install.html\n",
      "  from .autonotebook import tqdm as notebook_tqdm\n"
     ]
    }
   ],
   "source": [
    "import numpy as np\n",
    "import matplotlib.pyplot as plt\n",
    "from tqdm.auto import tqdm\n",
    "from scipy.stats import norm"
   ]
  },
  {
   "cell_type": "code",
   "execution_count": 3,
   "metadata": {},
   "outputs": [],
   "source": [
    "def operator(K, s, r, m, l):\n",
    "    i_arr = np.linspace(1, l, l)\n",
    "    sub_diag = (-r*i_arr[1:] + s**2 * (i_arr[1:])**2)/2\n",
    "    diag_arr = -s**2 * (i_arr**2) - r\n",
    "    sup_diag = (r*i_arr[:-1] + s**2 * (i_arr[:-1])**2)/2\n",
    "\n",
    "    return np.diag(sub_diag, -1) + np.diag(diag_arr) + np.diag(sup_diag, 1)\n",
    "\n",
    "def add_bc(t, K, T, r, l):\n",
    "    return np.concatenate([np.array([(s**2 - r)/2 * K*np.exp(-r*(T-t))]),np.zeros(l-1)])\n",
    "\n",
    "def payoff(x, K, put_or_call='call'):\n",
    "    if put_or_call == 'call':\n",
    "        return np.maximum(x - K, 0)\n",
    "    elif put_or_call == 'put':\n",
    "        return np.maximum(K - x, 0)"
   ]
  },
  {
   "cell_type": "code",
   "execution_count": 183,
   "metadata": {},
   "outputs": [],
   "source": [
    "def finite_differences(K, s, r, T, m, l, alpha, beta, theta):\n",
    "    delta = (beta - alpha)/(l+1)\n",
    "    h = T/m\n",
    "\n",
    "    print(f'delta: {delta}, h: {h}')\n",
    "    \n",
    "    x_grid = np.array([alpha + delta*i for i in range(1, l+1)])\n",
    "    u  = [0]*(m+1)\n",
    "    u[-1] = payoff(x_grid, K, 'put')   # terminal condition\n",
    "    A = operator(K, s, r, m, l)\n",
    "\n",
    "    for i in tqdm(range(m - 1, -1, -1)):\n",
    "        u[i] = np.dot(np.linalg.inv(np.eye(l) - h*A),(u[i+1] + h*add_bc(i*h, K, T, r, l)))\n",
    "\n",
    "    return x_grid, u[0]"
   ]
  },
  {
   "cell_type": "markdown",
   "metadata": {},
   "source": [
    "Computation of the price"
   ]
  },
  {
   "cell_type": "code",
   "execution_count": 1,
   "metadata": {},
   "outputs": [],
   "source": [
    "def seuil(a):\n",
    "    v = 0.1\n",
    "    n = 0\n",
    "    while v < a:\n",
    "        v = 1.6*v - 1.6*v*v\n",
    "        n = n + 1\n",
    "    return n"
   ]
  },
  {
   "cell_type": "code",
   "execution_count": 3,
   "metadata": {},
   "outputs": [
    {
     "data": {
      "text/plain": [
       "6"
      ]
     },
     "execution_count": 3,
     "metadata": {},
     "output_type": "execute_result"
    }
   ],
   "source": [
    "seuil(0.35)"
   ]
  },
  {
   "cell_type": "code",
   "execution_count": 184,
   "metadata": {},
   "outputs": [
    {
     "name": "stdout",
     "output_type": "stream",
     "text": [
      "delta: 0.3992015968063872, h: 0.001\n"
     ]
    },
    {
     "name": "stderr",
     "output_type": "stream",
     "text": [
      "100%|██████████| 1000/1000 [00:30<00:00, 32.70it/s]"
     ]
    },
    {
     "name": "stdout",
     "output_type": "stream",
     "text": [
      "Interpolate between 99.8003992015968 and 100.1996007984032\n",
      "Price at x=100: 5.572949806460338\n"
     ]
    },
    {
     "name": "stderr",
     "output_type": "stream",
     "text": [
      "\n"
     ]
    }
   ],
   "source": [
    "K = 100\n",
    "s = 0.2\n",
    "r = 0.05\n",
    "T = 1\n",
    "m = 1000\n",
    "l = 500\n",
    "alpha = 0\n",
    "beta = 200\n",
    "\n",
    "grid, sol = finite_differences(K, s, r, T, m, l, alpha, beta, 1)\n",
    "\n",
    "wanted_x = 100\n",
    "index = np.where(grid >= wanted_x)[0][0]\n",
    "print(f'Interpolate between {grid[index-1]} and {grid[index]}')\n",
    "\n",
    "price = sol[index-1] + (sol[index] - sol[index-1]) * (wanted_x - grid[index-1]) / (grid[index] - grid[index-1])\n",
    "\n",
    "print(f'Price at x={wanted_x}: {price}')"
   ]
  },
  {
   "cell_type": "markdown",
   "metadata": {},
   "source": [
    "**Using exact formula**"
   ]
  },
  {
   "cell_type": "code",
   "execution_count": 185,
   "metadata": {},
   "outputs": [
    {
     "name": "stdout",
     "output_type": "stream",
     "text": [
      "Price at x=100 (analytical): 5.573526022256971\n"
     ]
    }
   ],
   "source": [
    "def analytical(K, s, r, T, wanted_x):\n",
    "    d1 = (np.log(wanted_x/K) + (r + s**2/2)*T)/(s*np.sqrt(T))\n",
    "    d2 = d1 - s*np.sqrt(T)\n",
    "\n",
    "    P = np.exp(-r*T)*K*norm.cdf(-d2) - wanted_x*norm.cdf(-d1)\n",
    "    return P\n",
    "\n",
    "P = analytical(K, s, r, T, wanted_x)\n",
    "print(f'Price at x={wanted_x} (analytical): {P}')"
   ]
  },
  {
   "cell_type": "markdown",
   "metadata": {},
   "source": [
    "**Determination of the convergence order in time**"
   ]
  },
  {
   "cell_type": "code",
   "execution_count": 189,
   "metadata": {},
   "outputs": [
    {
     "name": "stdout",
     "output_type": "stream",
     "text": [
      "delta: 0.5988023952095808, h: 0.1\n"
     ]
    },
    {
     "name": "stderr",
     "output_type": "stream",
     "text": [
      "100%|██████████| 10/10 [00:00<00:00, 21.93it/s]\n"
     ]
    },
    {
     "name": "stdout",
     "output_type": "stream",
     "text": [
      "delta: 0.5988023952095808, h: 0.05\n"
     ]
    },
    {
     "name": "stderr",
     "output_type": "stream",
     "text": [
      "100%|██████████| 20/20 [00:00<00:00, 30.86it/s]\n"
     ]
    },
    {
     "name": "stdout",
     "output_type": "stream",
     "text": [
      "delta: 0.5988023952095808, h: 0.01\n"
     ]
    },
    {
     "name": "stderr",
     "output_type": "stream",
     "text": [
      "100%|██████████| 100/100 [00:02<00:00, 48.80it/s]\n"
     ]
    },
    {
     "data": {
      "image/png": "[encoded data removed]",
      "text/plain": [
       "<Figure size 640x480 with 1 Axes>"
      ]
     },
     "metadata": {},
     "output_type": "display_data"
    },
    {
     "name": "stdout",
     "output_type": "stream",
     "text": [
      "Errors: [0.7174147846083297, 0.3655505225998215, 0.07718481894855155]\n",
      "Order of convergence: 0.9663011504824442\n"
     ]
    }
   ],
   "source": [
    "K = 100\n",
    "s = 0.2\n",
    "r = 0.05\n",
    "T = 1\n",
    "l = 500\n",
    "alpha = 0\n",
    "beta = 300\n",
    "\n",
    "delta = (beta - alpha)/(l+1)\n",
    "wanted_x = 100\n",
    "\n",
    "h_values = [0.1, 0.05, 0.01]\n",
    "\n",
    "grid = np.array([alpha + delta*i for i in range(1, l+1)])\n",
    "analytical_sol = analytical(K, s, r, T, grid)\n",
    "\n",
    "solutions = []\n",
    "errors = []\n",
    "\n",
    "for h in h_values:\n",
    "    m = int(T/h)\n",
    "    grid, sol = finite_differences(K, s, r, T, m, l, alpha, beta, 1)\n",
    "    solutions.append(sol)\n",
    "    errors.append(np.sqrt(np.sum((sol - analytical_sol)**2)))\n",
    "\n",
    "plt.plot([h for h in h_values], errors)\n",
    "plt.title('Convergence of the finite differences method')\n",
    "plt.xlabel('h')\n",
    "plt.ylabel('Error')\n",
    "plt.xscale('log')\n",
    "plt.yscale('log')\n",
    "plt.show()\n",
    "print('Errors:', errors)\n",
    "print('Order of convergence:', np.log(errors[-1]/errors[-2])/np.log(h_values[-1]/h_values[-2]))"
   ]
  },
  {
   "cell_type": "markdown",
   "metadata": {},
   "source": [
    "**Order of convergence in space**"
   ]
  },
  {
   "cell_type": "code",
   "execution_count": 182,
   "metadata": {},
   "outputs": [
    {
     "name": "stdout",
     "output_type": "stream",
     "text": [
      "delta: 16.666666666666668, h: 0.01\n"
     ]
    },
    {
     "name": "stderr",
     "output_type": "stream",
     "text": [
      "100%|██████████| 100/100 [00:00<00:00, 10727.94it/s]\n"
     ]
    },
    {
     "name": "stdout",
     "output_type": "stream",
     "text": [
      "delta: 8.0, h: 0.01\n"
     ]
    },
    {
     "name": "stderr",
     "output_type": "stream",
     "text": [
      "100%|██████████| 100/100 [00:00<00:00, 2026.95it/s]\n"
     ]
    },
    {
     "name": "stdout",
     "output_type": "stream",
     "text": [
      "delta: 4.0, h: 0.01\n"
     ]
    },
    {
     "name": "stderr",
     "output_type": "stream",
     "text": [
      "100%|██████████| 100/100 [00:00<00:00, 1026.48it/s]\n"
     ]
    },
    {
     "name": "stdout",
     "output_type": "stream",
     "text": [
      "delta: 2.0, h: 0.01\n"
     ]
    },
    {
     "name": "stderr",
     "output_type": "stream",
     "text": [
      "100%|██████████| 100/100 [00:00<00:00, 465.60it/s]\n"
     ]
    },
    {
     "name": "stdout",
     "output_type": "stream",
     "text": [
      "delta: 1.0, h: 0.01\n"
     ]
    },
    {
     "name": "stderr",
     "output_type": "stream",
     "text": [
      "100%|██████████| 100/100 [00:00<00:00, 239.34it/s]\n"
     ]
    },
    {
     "name": "stdout",
     "output_type": "stream",
     "text": [
      "delta: 0.5, h: 0.01\n"
     ]
    },
    {
     "name": "stderr",
     "output_type": "stream",
     "text": [
      "100%|██████████| 100/100 [00:01<00:00, 52.35it/s]\n"
     ]
    },
    {
     "name": "stdout",
     "output_type": "stream",
     "text": [
      "delta: 16.666666666666668, h: 0.005\n"
     ]
    },
    {
     "name": "stderr",
     "output_type": "stream",
     "text": [
      "100%|██████████| 200/200 [00:00<00:00, 4543.94it/s]\n"
     ]
    },
    {
     "name": "stdout",
     "output_type": "stream",
     "text": [
      "delta: 8.0, h: 0.005\n"
     ]
    },
    {
     "name": "stderr",
     "output_type": "stream",
     "text": [
      "100%|██████████| 200/200 [00:00<00:00, 3303.36it/s]\n"
     ]
    },
    {
     "name": "stdout",
     "output_type": "stream",
     "text": [
      "delta: 4.0, h: 0.005\n"
     ]
    },
    {
     "name": "stderr",
     "output_type": "stream",
     "text": [
      "100%|██████████| 200/200 [00:00<00:00, 1438.99it/s]\n"
     ]
    },
    {
     "name": "stdout",
     "output_type": "stream",
     "text": [
      "delta: 2.0, h: 0.005\n"
     ]
    },
    {
     "name": "stderr",
     "output_type": "stream",
     "text": [
      "100%|██████████| 200/200 [00:00<00:00, 621.59it/s]\n"
     ]
    },
    {
     "name": "stdout",
     "output_type": "stream",
     "text": [
      "delta: 1.0, h: 0.005\n"
     ]
    },
    {
     "name": "stderr",
     "output_type": "stream",
     "text": [
      "100%|██████████| 200/200 [00:00<00:00, 248.79it/s]\n"
     ]
    },
    {
     "name": "stdout",
     "output_type": "stream",
     "text": [
      "delta: 0.5, h: 0.005\n"
     ]
    },
    {
     "name": "stderr",
     "output_type": "stream",
     "text": [
      "100%|██████████| 200/200 [00:03<00:00, 52.19it/s]\n"
     ]
    },
    {
     "name": "stdout",
     "output_type": "stream",
     "text": [
      "delta: 16.666666666666668, h: 0.0025\n"
     ]
    },
    {
     "name": "stderr",
     "output_type": "stream",
     "text": [
      "100%|██████████| 400/400 [00:00<00:00, 5668.97it/s]\n"
     ]
    },
    {
     "name": "stdout",
     "output_type": "stream",
     "text": [
      "delta: 8.0, h: 0.0025\n"
     ]
    },
    {
     "name": "stderr",
     "output_type": "stream",
     "text": [
      "100%|██████████| 400/400 [00:00<00:00, 2031.99it/s]\n"
     ]
    },
    {
     "name": "stdout",
     "output_type": "stream",
     "text": [
      "delta: 4.0, h: 0.0025\n"
     ]
    },
    {
     "name": "stderr",
     "output_type": "stream",
     "text": [
      "100%|██████████| 400/400 [00:00<00:00, 1474.44it/s]\n"
     ]
    },
    {
     "name": "stdout",
     "output_type": "stream",
     "text": [
      "delta: 2.0, h: 0.0025\n"
     ]
    },
    {
     "name": "stderr",
     "output_type": "stream",
     "text": [
      "100%|██████████| 400/400 [00:00<00:00, 608.33it/s]\n"
     ]
    },
    {
     "name": "stdout",
     "output_type": "stream",
     "text": [
      "delta: 1.0, h: 0.0025\n"
     ]
    },
    {
     "name": "stderr",
     "output_type": "stream",
     "text": [
      "100%|██████████| 400/400 [00:02<00:00, 183.98it/s]\n"
     ]
    },
    {
     "name": "stdout",
     "output_type": "stream",
     "text": [
      "delta: 0.5, h: 0.0025\n"
     ]
    },
    {
     "name": "stderr",
     "output_type": "stream",
     "text": [
      "100%|██████████| 400/400 [00:08<00:00, 48.32it/s]\n"
     ]
    },
    {
     "name": "stdout",
     "output_type": "stream",
     "text": [
      "delta: 16.666666666666668, h: 0.00125\n"
     ]
    },
    {
     "name": "stderr",
     "output_type": "stream",
     "text": [
      "100%|██████████| 800/800 [00:00<00:00, 5363.05it/s]\n"
     ]
    },
    {
     "name": "stdout",
     "output_type": "stream",
     "text": [
      "delta: 8.0, h: 0.00125\n"
     ]
    },
    {
     "name": "stderr",
     "output_type": "stream",
     "text": [
      "100%|██████████| 800/800 [00:00<00:00, 3451.73it/s]\n"
     ]
    },
    {
     "name": "stdout",
     "output_type": "stream",
     "text": [
      "delta: 4.0, h: 0.00125\n"
     ]
    },
    {
     "name": "stderr",
     "output_type": "stream",
     "text": [
      "100%|██████████| 800/800 [00:00<00:00, 1439.56it/s]\n"
     ]
    },
    {
     "name": "stdout",
     "output_type": "stream",
     "text": [
      "delta: 2.0, h: 0.00125\n"
     ]
    },
    {
     "name": "stderr",
     "output_type": "stream",
     "text": [
      "100%|██████████| 800/800 [00:01<00:00, 590.15it/s]\n"
     ]
    },
    {
     "name": "stdout",
     "output_type": "stream",
     "text": [
      "delta: 1.0, h: 0.00125\n"
     ]
    },
    {
     "name": "stderr",
     "output_type": "stream",
     "text": [
      "100%|██████████| 800/800 [00:03<00:00, 223.09it/s]\n"
     ]
    },
    {
     "name": "stdout",
     "output_type": "stream",
     "text": [
      "delta: 0.5, h: 0.00125\n"
     ]
    },
    {
     "name": "stderr",
     "output_type": "stream",
     "text": [
      "100%|██████████| 800/800 [00:22<00:00, 35.67it/s]\n"
     ]
    },
    {
     "name": "stdout",
     "output_type": "stream",
     "text": [
      "delta: 16.666666666666668, h: 0.000625\n"
     ]
    },
    {
     "name": "stderr",
     "output_type": "stream",
     "text": [
      "100%|██████████| 1600/1600 [00:00<00:00, 7112.69it/s]\n"
     ]
    },
    {
     "name": "stdout",
     "output_type": "stream",
     "text": [
      "delta: 8.0, h: 0.000625\n"
     ]
    },
    {
     "name": "stderr",
     "output_type": "stream",
     "text": [
      "100%|██████████| 1600/1600 [00:00<00:00, 3052.69it/s]\n"
     ]
    },
    {
     "name": "stdout",
     "output_type": "stream",
     "text": [
      "delta: 4.0, h: 0.000625\n"
     ]
    },
    {
     "name": "stderr",
     "output_type": "stream",
     "text": [
      "100%|██████████| 1600/1600 [00:00<00:00, 1622.41it/s]\n"
     ]
    },
    {
     "name": "stdout",
     "output_type": "stream",
     "text": [
      "delta: 2.0, h: 0.000625\n"
     ]
    },
    {
     "name": "stderr",
     "output_type": "stream",
     "text": [
      "100%|██████████| 1600/1600 [00:02<00:00, 569.81it/s]\n"
     ]
    },
    {
     "name": "stdout",
     "output_type": "stream",
     "text": [
      "delta: 1.0, h: 0.000625\n"
     ]
    },
    {
     "name": "stderr",
     "output_type": "stream",
     "text": [
      "100%|██████████| 1600/1600 [00:07<00:00, 218.33it/s]\n"
     ]
    },
    {
     "name": "stdout",
     "output_type": "stream",
     "text": [
      "delta: 0.5, h: 0.000625\n"
     ]
    },
    {
     "name": "stderr",
     "output_type": "stream",
     "text": [
      "100%|██████████| 1600/1600 [00:29<00:00, 53.35it/s]\n"
     ]
    },
    {
     "data": {
      "text/plain": [
       "[<matplotlib.lines.Line2D at 0x279e491f770>]"
      ]
     },
     "execution_count": 182,
     "metadata": {},
     "output_type": "execute_result"
    },
    {
     "data": {
      "image/png": "[encoded data removed]",
      "text/plain": [
       "<Figure size 640x480 with 1 Axes>"
      ]
     },
     "metadata": {},
     "output_type": "display_data"
    }
   ],
   "source": [
    "def cv(m):\n",
    "    K = 100\n",
    "    s = 0.2\n",
    "    r = 0.05\n",
    "    T = 1\n",
    "    # m = 100\n",
    "    alpha = 0\n",
    "    beta = 200\n",
    "\n",
    "    wanted_x = 100\n",
    "\n",
    "    delta_values = [16, 8, 4, 2, 1, 0.5]\n",
    "\n",
    "    solutions = []\n",
    "    errors = []\n",
    "\n",
    "    for delta in delta_values:\n",
    "        l = int((beta - alpha)/delta) - 1\n",
    "        grid, sol = finite_differences(K, s, r, T, m, l, alpha, beta, 1)\n",
    "        analytical_sol = analytical(K, s, r, T, grid)\n",
    "        solutions.append(sol)\n",
    "        errors.append(np.sqrt(np.sum((sol - analytical_sol)**2))*delta)\n",
    "\n",
    "    cv_order = np.log(errors[-1]/errors[-2])/np.log(delta_values[-1]/delta_values[-2])\n",
    "\n",
    "    # plt.plot([delta for delta in delta_values], errors)\n",
    "    # plt.title('Convergence of the finite differences method')\n",
    "    # plt.xlabel('h')\n",
    "    # plt.ylabel('Error')\n",
    "    # plt.xscale('log')\n",
    "    # plt.yscale('log')\n",
    "    # plt.show()\n",
    "    # print('Errors:', errors)\n",
    "    # print('Order of convergence:', cv_order)\n",
    "    return cv_order\n",
    "\n",
    "m_values = [100, 200, 400, 800, 1600]\n",
    "cv_orders = [cv(m) for m in m_values]\n",
    "plt.plot(m_values, cv_orders)"
   ]
  },
  {
   "cell_type": "code",
   "execution_count": null,
   "metadata": {},
   "outputs": [],
   "source": []
  }
 ],
 "metadata": {
  "kernelspec": {
   "display_name": "montecarlo",
   "language": "python",
   "name": "python3"
  },
  "language_info": {
   "codemirror_mode": {
    "name": "ipython",
    "version": 3
   },
   "file_extension": ".py",
   "mimetype": "text/x-python",
   "name": "python",
   "nbconvert_exporter": "python",
   "pygments_lexer": "ipython3",
   "version": "3.12.1"
  }
 },
 "nbformat": 4,
 "nbformat_minor": 2
}
