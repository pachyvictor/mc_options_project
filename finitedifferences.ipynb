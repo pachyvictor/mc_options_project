{
 "cells": [
  {
   "cell_type": "code",
   "execution_count": 1,
   "metadata": {},
   "outputs": [
    {
     "name": "stderr",
     "output_type": "stream",
     "text": [
      "c:\\Users\\victo\\anaconda3\\envs\\montecarlo\\Lib\\site-packages\\tqdm\\auto.py:21: TqdmWarning: IProgress not found. Please update jupyter and ipywidgets. See https://ipywidgets.readthedocs.io/en/stable/user_install.html\n",
      "  from .autonotebook import tqdm as notebook_tqdm\n"
     ]
    }
   ],
   "source": [
    "import numpy as np\n",
    "import matplotlib.pyplot as plt\n",
    "from tqdm.auto import tqdm\n",
    "from scipy.stats import norm"
   ]
  },
  {
   "cell_type": "code",
   "execution_count": 2,
   "metadata": {},
   "outputs": [],
   "source": [
    "def operator(K, s, r, m, l):\n",
    "    i_arr = np.linspace(1, l, l)\n",
    "    sub_diag = (-r*i_arr[1:] + s**2 * (i_arr[1:])**2)/2\n",
    "    diag_arr = -s**2 * (i_arr**2) - r\n",
    "    sup_diag = (r*i_arr[:-1] + s**2 * (i_arr[:-1])**2)/2\n",
    "\n",
    "    return np.diag(sub_diag, -1) + np.diag(diag_arr) + np.diag(sup_diag, 1)\n",
    "\n",
    "def add_bc(t, K, T, r, l):\n",
    "    return np.concatenate([np.array([(s**2 - r)/2 * K*np.exp(-r*(T-t))]),np.zeros(l-1)])\n",
    "\n",
    "def payoff(x, K, put_or_call='call'):\n",
    "    if put_or_call == 'call':\n",
    "        return np.maximum(x - K, 0)\n",
    "    elif put_or_call == 'put':\n",
    "        return np.maximum(K - x, 0)"
   ]
  },
  {
   "cell_type": "code",
   "execution_count": 3,
   "metadata": {},
   "outputs": [],
   "source": [
    "def finite_differences(K, s, r, T, m, l, alpha, beta, theta):\n",
    "    delta = (beta - alpha)/(l+1)\n",
    "    h = T/m\n",
    "\n",
    "    print(f'delta: {delta}, h: {h}')\n",
    "    \n",
    "    x_grid = np.array([alpha + delta*i for i in range(1, l+1)])\n",
    "    u  = [0]*(m+1)\n",
    "    u[-1] = payoff(x_grid, K, 'put')   # terminal condition\n",
    "    A = operator(K, s, r, m, l)\n",
    "\n",
    "    for i in tqdm(range(m - 1, -1, -1)):\n",
    "        u[i] = np.dot(np.linalg.inv(np.eye(l) - h*A),(u[i+1] + h*add_bc(i*h, K, T, r, l)))\n",
    "\n",
    "    return x_grid, u[0]"
   ]
  },
  {
   "cell_type": "markdown",
   "metadata": {},
   "source": [
    "Computation of the price"
   ]
  },
  {
   "cell_type": "code",
   "execution_count": 4,
   "metadata": {},
   "outputs": [
    {
     "name": "stdout",
     "output_type": "stream",
     "text": [
      "delta: 0.3992015968063872, h: 0.001\n"
     ]
    },
    {
     "name": "stderr",
     "output_type": "stream",
     "text": [
      "100%|██████████| 1000/1000 [00:25<00:00, 38.88it/s]"
     ]
    },
    {
     "name": "stdout",
     "output_type": "stream",
     "text": [
      "Interpolate between 99.8003992015968 and 100.1996007984032\n",
      "Price at x=100: 5.572949806460338\n"
     ]
    },
    {
     "name": "stderr",
     "output_type": "stream",
     "text": [
      "\n"
     ]
    }
   ],
   "source": [
    "K = 100\n",
    "s = 0.2\n",
    "r = 0.05\n",
    "T = 1\n",
    "m = 1000\n",
    "l = 500\n",
    "alpha = 0\n",
    "beta = 200\n",
    "\n",
    "grid, sol = finite_differences(K, s, r, T, m, l, alpha, beta, 1)\n",
    "\n",
    "wanted_x = 100\n",
    "index = np.where(grid >= wanted_x)[0][0]\n",
    "print(f'Interpolate between {grid[index-1]} and {grid[index]}')\n",
    "\n",
    "price = sol[index-1] + (sol[index] - sol[index-1]) * (wanted_x - grid[index-1]) / (grid[index] - grid[index-1])\n",
    "\n",
    "print(f'Price at x={wanted_x}: {price}')"
   ]
  },
  {
   "cell_type": "markdown",
   "metadata": {},
   "source": [
    "**Using exact formula**"
   ]
  },
  {
   "cell_type": "code",
   "execution_count": 5,
   "metadata": {},
   "outputs": [
    {
     "name": "stdout",
     "output_type": "stream",
     "text": [
      "Price at x=100 (analytical): 5.573526022256971\n"
     ]
    }
   ],
   "source": [
    "def analytical(K, s, r, T, wanted_x):\n",
    "    d1 = (np.log(wanted_x/K) + (r + s**2/2)*T)/(s*np.sqrt(T))\n",
    "    d2 = d1 - s*np.sqrt(T)\n",
    "\n",
    "    P = np.exp(-r*T)*K*norm.cdf(-d2) - wanted_x*norm.cdf(-d1)\n",
    "    return P\n",
    "\n",
    "P = analytical(K, s, r, T, wanted_x)\n",
    "print(f'Price at x={wanted_x} (analytical): {P}')"
   ]
  },
  {
   "cell_type": "markdown",
   "metadata": {},
   "source": [
    "**Determination of the convergence order in time**"
   ]
  },
  {
   "cell_type": "code",
   "execution_count": 9,
   "metadata": {},
   "outputs": [
    {
     "name": "stdout",
     "output_type": "stream",
     "text": [
      "delta: 0.005988023952095809, h: 0.05\n"
     ]
    },
    {
     "name": "stderr",
     "output_type": "stream",
     "text": [
      "  0%|          | 0/20 [00:00<?, ?it/s]"
     ]
    },
    {
     "name": "stderr",
     "output_type": "stream",
     "text": [
      "100%|██████████| 20/20 [00:00<00:00, 38.64it/s]\n"
     ]
    },
    {
     "name": "stdout",
     "output_type": "stream",
     "text": [
      "delta: 0.005988023952095809, h: 0.01\n"
     ]
    },
    {
     "name": "stderr",
     "output_type": "stream",
     "text": [
      "100%|██████████| 100/100 [00:02<00:00, 35.89it/s]\n"
     ]
    },
    {
     "data": {
      "image/png": "[encoded data removed]",
      "text/plain": [
       "<Figure size 640x480 with 1 Axes>"
      ]
     },
     "metadata": {},
     "output_type": "display_data"
    },
    {
     "name": "stdout",
     "output_type": "stream",
     "text": [
      "Errors: [0.003655505225998116, 0.0007718481894853432]\n",
      "Order of convergence: 0.966301150482566\n"
     ]
    }
   ],
   "source": [
    "K = 1\n",
    "s = 0.2\n",
    "r = 0.05\n",
    "T = 1\n",
    "l = 500\n",
    "alpha = 0\n",
    "beta = 3\n",
    "\n",
    "delta = (beta - alpha)/(l+1)\n",
    "wanted_x = 1\n",
    "\n",
    "h_values = [0.05, 0.01]\n",
    "\n",
    "grid = np.array([alpha + delta*i for i in range(1, l+1)])\n",
    "analytical_sol = analytical(K, s, r, T, grid)\n",
    "\n",
    "solutions = []\n",
    "errors = []\n",
    "\n",
    "for h in h_values:\n",
    "    m = int(T/h)\n",
    "    grid, sol = finite_differences(K, s, r, T, m, l, alpha, beta, 1)\n",
    "    solutions.append(sol)\n",
    "    errors.append(np.sqrt(np.sum((sol - analytical_sol)**2)))\n",
    "\n",
    "plt.plot([h for h in h_values], errors)\n",
    "plt.title('Convergence of the finite differences method')\n",
    "plt.xlabel('h')\n",
    "plt.ylabel('Error')\n",
    "plt.xscale('log')\n",
    "plt.yscale('log')\n",
    "plt.show()\n",
    "print('Errors:', errors)\n",
    "print('Order of convergence:', np.log(errors[-1]/errors[-2])/np.log(h_values[-1]/h_values[-2]))"
   ]
  },
  {
   "cell_type": "markdown",
   "metadata": {},
   "source": [
    "**Order of convergence in space**"
   ]
  },
  {
   "cell_type": "code",
   "execution_count": 11,
   "metadata": {},
   "outputs": [
    {
     "name": "stdout",
     "output_type": "stream",
     "text": [
      "delta: 0.02, h: 0.002\n"
     ]
    },
    {
     "name": "stderr",
     "output_type": "stream",
     "text": [
      "100%|██████████| 500/500 [00:02<00:00, 245.42it/s]\n"
     ]
    },
    {
     "name": "stdout",
     "output_type": "stream",
     "text": [
      "delta: 0.01, h: 0.002\n"
     ]
    },
    {
     "name": "stderr",
     "output_type": "stream",
     "text": [
      "100%|██████████| 500/500 [00:05<00:00, 95.78it/s] \n"
     ]
    },
    {
     "data": {
      "image/png": "[encoded data removed]",
      "text/plain": [
       "<Figure size 640x480 with 1 Axes>"
      ]
     },
     "metadata": {},
     "output_type": "display_data"
    },
    {
     "name": "stdout",
     "output_type": "stream",
     "text": [
      "Errors: [8.4403078650059e-06, 2.2085211753072205e-06]\n",
      "Order of convergence: 1.9342149580018004\n"
     ]
    }
   ],
   "source": [
    "K = 1\n",
    "s = 0.2\n",
    "r = 0.05\n",
    "T = 1\n",
    "m = 500\n",
    "alpha = 0\n",
    "beta = 3\n",
    "\n",
    "wanted_x = 1\n",
    "\n",
    "delta_values = [0.02, 0.01]\n",
    "\n",
    "solutions = []\n",
    "errors = []\n",
    "\n",
    "for delta in delta_values:\n",
    "    l = int((beta - alpha)/delta) - 1\n",
    "    grid, sol = finite_differences(K, s, r, T, m, l, alpha, beta, 1)\n",
    "    analytical_sol = analytical(K, s, r, T, grid)\n",
    "    solutions.append(sol)\n",
    "    errors.append(np.sqrt(np.sum((sol - analytical_sol)**2))*delta)\n",
    "\n",
    "cv_order = np.log(errors[-1]/errors[-2])/np.log(delta_values[-1]/delta_values[-2])\n",
    "\n",
    "plt.plot([delta for delta in delta_values], errors)\n",
    "plt.title('Convergence of the finite differences method')\n",
    "plt.xlabel('h')\n",
    "plt.ylabel('Error')\n",
    "plt.xscale('log')\n",
    "plt.yscale('log')\n",
    "plt.show()\n",
    "print('Errors:', errors)\n",
    "print('Order of convergence:', cv_order)"
   ]
  }
 ],
 "metadata": {
  "kernelspec": {
   "display_name": "montecarlo",
   "language": "python",
   "name": "python3"
  },
  "language_info": {
   "codemirror_mode": {
    "name": "ipython",
    "version": 3
   },
   "file_extension": ".py",
   "mimetype": "text/x-python",
   "name": "python",
   "nbconvert_exporter": "python",
   "pygments_lexer": "ipython3",
   "version": "3.12.1"
  }
 },
 "nbformat": 4,
 "nbformat_minor": 2
}
